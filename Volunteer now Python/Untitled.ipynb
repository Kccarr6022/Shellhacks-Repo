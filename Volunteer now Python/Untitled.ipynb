{
 "cells": [
  {
   "cell_type": "code",
   "execution_count": 45,
   "id": "06b10463",
   "metadata": {},
   "outputs": [],
   "source": [
    "from flask import Flask, request, redirect\n",
    "from twilio.twiml.messaging_response import MessagingResponse\n",
    "\n",
    "account_sid = \"AC9979a3d41a31d5acae3d55cf9a816529\"\n",
    "auth_token = \"88fb338704e80b78fb933f11977dba61\"\n"
   ]
  },
  {
   "cell_type": "code",
   "execution_count": 46,
   "id": "338b249d",
   "metadata": {},
   "outputs": [
    {
     "name": "stdout",
     "output_type": "stream",
     "text": [
      "SMd10374dad4a0b595cede5158dbe1e269\n"
     ]
    }
   ],
   "source": [
    "# Your Account Sid and Auth Token from twilio.com / console\n",
    "account_sid = 'AC9979a3d41a31d5acae3d55cf9a816529'\n",
    "auth_token = '88fb338704e80b78fb933f11977dba61'\n",
    "  \n",
    "client = Client(account_sid, auth_token)\n",
    "  \n",
    "''' Change the value of 'from' with the number \n",
    "received from Twilio and the value of 'to'\n",
    "with the number in which you want to send message.'''\n",
    "message = client.messages.create(\n",
    "                              from_='+13329005194',\n",
    "                              body ='body',\n",
    "                              to ='+19412501194'\n",
    "                          )\n",
    "  \n",
    "print(message.sid)"
   ]
  },
  {
   "cell_type": "code",
   "execution_count": 47,
   "id": "85f18f83",
   "metadata": {},
   "outputs": [
    {
     "ename": "NameError",
     "evalue": "name 'app' is not defined",
     "output_type": "error",
     "traceback": [
      "\u001b[1;31m---------------------------------------------------------------------------\u001b[0m",
      "\u001b[1;31mNameError\u001b[0m                                 Traceback (most recent call last)",
      "Input \u001b[1;32mIn [47]\u001b[0m, in \u001b[0;36m<cell line: 1>\u001b[1;34m()\u001b[0m\n\u001b[1;32m----> 1\u001b[0m \u001b[38;5;129m@app\u001b[39m\u001b[38;5;241m.\u001b[39mroute(\u001b[38;5;124m\"\u001b[39m\u001b[38;5;124m/sms\u001b[39m\u001b[38;5;124m\"\u001b[39m, methods\u001b[38;5;241m=\u001b[39m[\u001b[38;5;124m'\u001b[39m\u001b[38;5;124mGET\u001b[39m\u001b[38;5;124m'\u001b[39m, \u001b[38;5;124m'\u001b[39m\u001b[38;5;124mPOST\u001b[39m\u001b[38;5;124m'\u001b[39m])\n\u001b[0;32m      2\u001b[0m \u001b[38;5;28;01mdef\u001b[39;00m \u001b[38;5;21msms_reply\u001b[39m():\n\u001b[0;32m      3\u001b[0m     \u001b[38;5;124;03m\"\"\"Respond to incoming calls with a simple text message.\"\"\"\u001b[39;00m\n\u001b[0;32m      4\u001b[0m     \u001b[38;5;66;03m# Start our TwiML response\u001b[39;00m\n",
      "\u001b[1;31mNameError\u001b[0m: name 'app' is not defined"
     ]
    }
   ],
   "source": [
    "@app.route(\"/sms\", methods=['GET', 'POST'])\n",
    "def sms_reply():\n",
    "    \"\"\"Respond to incoming calls with a simple text message.\"\"\"\n",
    "    # Start our TwiML response\n",
    "    resp = MessagingResponse()\n",
    "\n",
    "    # Add a message\n",
    "    resp.message(\"The Robots are coming! Head for the hills!\")\n",
    "\n",
    "    return str(resp)\n",
    "\n",
    "if __name__ == \"__main__\":\n",
    "    app.run(debug=True)"
   ]
  }
 ],
 "metadata": {
  "kernelspec": {
   "display_name": "Python 3 (ipykernel)",
   "language": "python",
   "name": "python3"
  },
  "language_info": {
   "codemirror_mode": {
    "name": "ipython",
    "version": 3
   },
   "file_extension": ".py",
   "mimetype": "text/x-python",
   "name": "python",
   "nbconvert_exporter": "python",
   "pygments_lexer": "ipython3",
   "version": "3.10.4"
  }
 },
 "nbformat": 4,
 "nbformat_minor": 5
}
