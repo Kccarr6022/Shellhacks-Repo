{
 "cells": [
  {
   "cell_type": "code",
   "execution_count": 9,
   "id": "b4a14a91",
   "metadata": {},
   "outputs": [],
   "source": [
    "from flask import Flask, request, redirect\n",
    "from twilio.twiml.messaging_response import MessagingResponse\n",
    "\n",
    "account_sid = \"AC9979a3d41a31d5acae3d55cf9a816529\"\n",
    "auth_token = \"88fb338704e80b78fb933f11977dba61\"\n"
   ]
  },
  {
   "cell_type": "code",
   "execution_count": 32,
   "id": "050ea546",
   "metadata": {},
   "outputs": [
    {
     "name": "stdout",
     "output_type": "stream",
     "text": [
      "SM6b0dfb4e167e91fe66c71a2b101800d8\n"
     ]
    }
   ],
   "source": [
    "# Your Account Sid and Auth Token from twilio.com / console\n",
    "account_sid = 'AC9979a3d41a31d5acae3d55cf9a816529'\n",
    "auth_token = '88fb338704e80b78fb933f11977dba61'\n",
    "  \n",
    "client = Client(account_sid, auth_token)\n",
    "  \n",
    "''' Change the value of 'from' with the number \n",
    "received from Twilio and the value of 'to'\n",
    "with the number in which you want to send message.'''\n",
    "message = client.messages.create(\n",
    "                              from_='+13329005194',\n",
    "                              body ='body',\n",
    "                              to ='+19412501194'\n",
    "                          )\n",
    "  \n",
    "print(message.sid)"
   ]
  }
 ],
 "metadata": {
  "kernelspec": {
   "display_name": "Python 3 (ipykernel)",
   "language": "python",
   "name": "python3"
  },
  "language_info": {
   "codemirror_mode": {
    "name": "ipython",
    "version": 3
   },
   "file_extension": ".py",
   "mimetype": "text/x-python",
   "name": "python",
   "nbconvert_exporter": "python",
   "pygments_lexer": "ipython3",
   "version": "3.10.4"
  }
 },
 "nbformat": 4,
 "nbformat_minor": 5
}
